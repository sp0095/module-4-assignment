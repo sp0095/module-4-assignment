{
  "nbformat": 4,
  "nbformat_minor": 0,
  "metadata": {
    "colab": {
      "provenance": []
    },
    "kernelspec": {
      "name": "python3",
      "display_name": "Python 3"
    },
    "language_info": {
      "name": "python"
    }
  },
  "cells": [
    {
      "cell_type": "code",
      "execution_count": null,
      "metadata": {
        "id": "q-8fhwWah-Sq"
      },
      "outputs": [],
      "source": []
    },
    {
      "cell_type": "markdown",
      "source": [
        "**Q1. What is the difference between a function and a method in Python?**\n",
        "\n",
        "Answer:- a function is a block of code that is defined to perform a specific task, and it can be called anywhere in your program.\n",
        "\n",
        "A method is a function that is associated with an object. It's a function that is defined within a class and is called on an instance of that class.\n",
        "\n",
        "**Function example**\n",
        "\n",
        "def greet(name): return \"Hello, \" + name\n",
        "\n",
        "print(greet(\"Millan\")) # Calling the function\n",
        "\n",
        "**Method example**\n",
        "\n",
        "class Person: def init(self, name): self.name = name\n",
        "\n",
        "def greet(self):\n",
        "\n",
        "    return \"Hello, \" + self.name\n",
        "p = Person(\"ReX\") print(p.greet()) # Calling the method on an object"
      ],
      "metadata": {
        "id": "rZ3Y4myBiCtm"
      }
    },
    {
      "cell_type": "markdown",
      "source": [
        "**Q2. Explain the concept of function arguments and parameters in Python.**\n",
        "\n",
        "Answer:- function arguments and parameters are related concepts that help you pass data into functions.\n",
        "\n",
        "Parameters are variables that are listed inside the function definition. They act as placeholders for the values that will be passed to the function. Arguments are the actual values you pass to the function when you call it.\n",
        "\n",
        " **Example:**\n",
        "\n",
        "Function definition with parameters (x and y)\n",
        "def add(x, y): return x + y\n",
        "\n",
        "Function call with arguments (3 and 5)\n",
        "result = add(3, 5)\n",
        "\n",
        "print(result) # Output: 8"
      ],
      "metadata": {
        "id": "uYt_Ti2hiM06"
      }
    },
    {
      "cell_type": "markdown",
      "source": [
        "**Q3. What are the different ways to define and call a function in Python?**\n",
        "\n",
        "Answer: there are several ways to define and call a function. Below are the different methods:\n",
        "\n",
        "1. Basic Function Definition You define a function using the def keyword, followed by the function name and parameters.\n",
        "Example:\n",
        "\n",
        "Function definition\n",
        "def greet(name): return \"Hello, \" + name\n",
        "\n",
        "Function call\n",
        "print(greet(\"Sharanya\")) # Output: Hello, sharanya\n",
        "\n",
        "2. Function with Default Parameters You can define default values for parameters. If the caller doesn't provide a value for that parameter, the default is used.\n",
        "Example:\n",
        "\n",
        "def greet(name=\"Guest\"): return \"Hello, \" + name\n",
        "\n",
        "print(greet()) # Output: Hello, Guest print(greet(\"ReX\")) # Output: Hello, ReX\n",
        "\n",
        "3. Function with Variable Number of Arguments (*args) You can define a function that accepts a variable number of arguments using *args.\n",
        "\n",
        "Example:\n",
        "\n",
        "def greet(*names): for name in names: print(\"Hello, \" + name)\n",
        "\n",
        "greet(\"sharanya\", \"Kalpana\", \"ReX\")\n",
        "\n",
        "Output:\n",
        "\n",
        "Hello, sharanya\n",
        "\n",
        "Hello, Kalpana\n",
        "\n",
        "Hello, ReX\n",
        "\n",
        "4. Function with Keyword Arguments (**kwargs) You can also pass a variable number of keyword arguments using **kwargs. This allows you to pass values as key-value pairs.\n",
        "\n",
        "Example:\n",
        "\n",
        "def greet(**people): for name, greeting in people.items(): print(greeting + \", \" + name)\n",
        "\n",
        "greet(sharanya=\"Good morning\", Kalpana=\"Hello\", ReX=\"Hey\")\n",
        "\n",
        "Output:\n",
        "\n",
        "Good morning, sharanya\n",
        "\n",
        "Hello, Kalpana\n",
        "\n",
        "Hey, ReX\n",
        "\n",
        "Lambda Functions (Anonymous Functions) A lambda function is a small, anonymous function defined using the lambda keyword.\n",
        "Example:\n",
        "\n",
        "add = lambda x, y: x + y print(add(3, 5)) # Output: 8 6. Function as an Argument You can pass a function as an argument to another function.\n",
        "\n",
        "Example: python Copy code def call_function(func, x, y): return func(x, y)\n",
        "\n",
        "def multiply(x, y): return x * y\n",
        "\n",
        "result = call_function(multiply, 3, 4) print(result) # Output: 12 7. Nested Functions (Function Inside Another Function) A function can be defined inside another function. This is called a nested function.\n",
        "\n",
        "Example:\n",
        "\n",
        "def outer_function(): def inner_function(): print(\"This is the inner function.\") inner_function()\n",
        "\n",
        "outer_function() # Output: This is the inner function.\n",
        "\n"
      ],
      "metadata": {
        "id": "FCR-NLvxuyuR"
      }
    },
    {
      "cell_type": "markdown",
      "source": [
        "**Q4.What is the purpose of the return statement in a Python function?**\n",
        "\n",
        "Answer:- The purpose of the return statement in a Python function is to send a result or value back to the caller. It allows the function to provide an output after performing its operations, which can then be used or stored in a variable.\n",
        "\n",
        "Example:-\n",
        "\n",
        "def add(x, y): result = x + y return result # This sends the result back to the caller\n",
        "\n",
        "sum_value = add(3, 5) # Calling the function and storing the returned value print(sum_value) # Output: 8"
      ],
      "metadata": {
        "id": "3fFWcC7Ewyg-"
      }
    },
    {
      "cell_type": "markdown",
      "source": [
        "**Q5. What are iterators in Python and how do they differ from iterables?**\n",
        "\n",
        "Answer: Iterable: An object that can be looped over (like a list, string, or tuple). It provides an iterator when you call iter() on it.\n",
        "\n",
        "Iterator: An object that keeps track of the current position and gives you one item at a time when you call next().\n",
        "\n",
        "Example:-\n",
        "\n",
        "Iterable: A list\n",
        "numbers = [1, 2, 3]\n",
        "\n",
        "Create an iterator from the iterable\n",
        "iterator = iter(numbers)\n",
        "\n",
        "Use the iterator to get items one by one\n",
        "print(next(iterator)) # Output: 1 print(next(iterator)) # Output: 2 print(next(iterator)) # Output: 3"
      ],
      "metadata": {
        "id": "3ymfKirKw6YJ"
      }
    },
    {
      "cell_type": "markdown",
      "source": [
        "**Q6. Explain the concept of generators in Python and how they are defined.**\n",
        "\n",
        "Answer:- A generator in Python is a special type of function that allows you to generate a sequence of values one at a time, instead of returning all values at once like a regular function. This is helpful when working with large data sets because it saves memory.\n",
        "\n",
        "Example:-\n",
        "\n",
        "generator function\n",
        "def count_up_to(max): count = 1 while count <= max: yield count # Yield the current value of count count += 1 # Move to the next number\n",
        "\n",
        "Create a generator object\n",
        "counter = count_up_to(5)\n",
        "\n",
        "Get values from the generator\n",
        "print(next(counter)) # Output: 1 print(next(counter)) # Output: 2 print(next(counter)) # Output: 3 print(next(counter)) # Output: 4 print(next(counter)) # Output: 5\n",
        "\n"
      ],
      "metadata": {
        "id": "yJPgFl0HxI5s"
      }
    },
    {
      "cell_type": "markdown",
      "source": [
        "**Q7. What are the advantages of using generators over regular functions?**\n",
        "\n",
        "\n",
        "Generators have several advantages over regular functions when it comes to handling large data or sequences.\n",
        "\n",
        "Advantages of Generators: Memory Efficiency:\n",
        "\n",
        "Generators do not store all values in memory at once. Instead, they generate values one at a time when needed, which is more efficient for large datasets. Lazy Evaluation:\n",
        "\n",
        "Generators only calculate values when they are required. This means they don’t do unnecessary work, which can improve performance. Convenience:\n",
        "\n",
        "Generators are often easier to write and more readable for iterating over data compared to creating complex loops.\n",
        "\n",
        "Example:-\n",
        "\n",
        "Regular Function (Returns all values at once):\n",
        "\n",
        "def get_numbers(): numbers = [] for i in range(1, 6): numbers.append(i) return numbers\n",
        "\n",
        "result = get_numbers() print(result) # Output: [1, 2, 3, 4, 5]\n",
        "\n",
        "Generator (Yields values one by one):\n",
        "\n",
        "def get_numbers(): for i in range(1, 6): yield i\n",
        "\n",
        "generator = get_numbers() print(next(generator)) # Output: 1 print(next(generator)) # Output: 2 print(next(generator)) # Output: 3 print(next(generator)) # Output: 4 print(next(generator)) # Output: 5"
      ],
      "metadata": {
        "id": "BHZ-AGr8xWy6"
      }
    },
    {
      "cell_type": "markdown",
      "source": [
        "**Q8. What is a lambda function in Python and when is it typically used?**\n",
        "\n",
        "Answer:- A lambda function in Python is a small, simple function that is defined using the lambda keyword. It can take any number of inputs but only has one line of code that gets executed, and it automatically returns a result.\n",
        "\n",
        "syntax:-\n",
        "lambda arguments: expression\n",
        "\n",
        "Example:-\n",
        "A lambda function that adds two numbers\n",
        "add = lambda x, y: x + y\n",
        "\n",
        "Calling the lambda function\n",
        "print(add(3, 5)) # Output: 8\n",
        "\n",
        "Use of Lambda:-\n",
        "\n",
        "Small, one-time tasks: When you need a quick function that doesn't need a full definition with def. Passing as arguments: Often used in functions like map(), filter(), or sorted() where you need a simple function temporarily."
      ],
      "metadata": {
        "id": "dM-ftkjrxjo5"
      }
    },
    {
      "cell_type": "markdown",
      "source": [
        "**Q9. Explain the purpose and usage of the map() function in Python**\n",
        "\n",
        "Answer:- The map() function in Python is used to apply a function to each item in a collection (like a list, tuple, or string). It helps you process each element in the collection without needing to write a loop.\n",
        "\n",
        "Purpose:\n",
        "\n",
        "The main purpose of map() is to apply a function to every item in an iterable (a list, for example) and return a new collection with the results. Syntax:\n",
        "\n",
        "map(function, iterable)\n",
        "\n",
        "function: The function that will be applied to each item in the iterable. iterable: The collection (like a list or tuple) of items you want to modify.\n",
        "\n",
        "Example:\n",
        "\n",
        "A function that squares a number\n",
        "def square(x): return x * x\n",
        "\n",
        "A list of numbers\n",
        "numbers = [1, 2, 3, 4, 5]\n",
        "\n",
        "Apply the square function to each number in the list using map()\n",
        "squared_numbers = map(square, numbers)\n",
        "\n",
        "Convert the map object to a list and print the result\n",
        "print(list(squared_numbers)) # Output: [1, 4, 9, 16, 25]"
      ],
      "metadata": {
        "id": "2Zi19LZpxnvV"
      }
    },
    {
      "cell_type": "markdown",
      "source": [
        "**Q10. What is the difference between map(), reduce(), and filter() functions in Python ?**\n",
        "\n",
        "Answer:- The map(), reduce(), and filter() functions in Python are all used to process collections (like lists or tuples), but they have different purposes and behaviors.\n",
        "\n",
        "map() function: Purpose: Applies a function to every item in a collection (like a list) and returns a new collection with the results. Output: A new collection (like a list) with transformed items. Example:\n",
        "Function to square a number\n",
        "def square(x): return x * x\n",
        "\n",
        "numbers = [1, 2, 3, 4]\n",
        "\n",
        "Using map to square each number in the list\n",
        "squared_numbers = map(square, numbers) print(list(squared_numbers)) # Output: [1, 4, 9, 16] 2. reduce() function: Purpose: Applies a function to reduce a collection of items into a single value (it works by combining items one by one). Output: A single result after combining all the items.\n",
        "\n",
        "Example:\n",
        "\n",
        "from functools import reduce\n",
        "\n",
        "Function to add two numbers\n",
        "def add(x, y): return x + y\n",
        "\n",
        "numbers = [1, 2, 3, 4]\n",
        "\n",
        "Using reduce to sum all the numbers in the list\n",
        "total = reduce(add, numbers) print(total) # Output: 10 3. filter() function: Purpose: Filters the items in a collection based on a condition. It keeps only the items for which the function returns True. Output: A new collection with only the items that meet the condition.\n",
        "\n",
        "Example:\n",
        "\n",
        "Function to check if a number is even\n",
        "def is_even(x): return x % 2 == 0\n",
        "\n",
        "numbers = [1, 2, 3, 4]\n",
        "\n",
        "Using filter to keep only even numbers\n",
        "even_numbers = filter(is_even, numbers) print(list(even_numbers)) # Output: [2, 4]"
      ],
      "metadata": {
        "id": "2_0NEjlqx7_J"
      }
    },
    {
      "cell_type": "markdown",
      "source": [
        "**Q11. Using pen & Paper write the internal mechanism for sum operation using reduce function on this given**\n",
        "\n",
        "list:[47,11,42,13];"
      ],
      "metadata": {
        "id": "jtOah3psyKW7"
      }
    },
    {
      "cell_type": "code",
      "source": [
        "# PRATICAL QUESTIONS"
      ],
      "metadata": {
        "id": "z5li8xFruQCJ"
      },
      "execution_count": null,
      "outputs": []
    },
    {
      "cell_type": "code",
      "source": [
        "### Q1. Write a Python function that takes a list of numbers as input and returns the sum of all even numbers in the list.\n",
        "\n",
        "\n",
        "my_list = [1, 2, 3, 4, 5]\n",
        "result = 0\n",
        "for item in my_list:\n",
        "    if item % 2 == 0:\n",
        "        result += item\n",
        "print(result)\n",
        "\n",
        "\n",
        "\n",
        "\n"
      ],
      "metadata": {
        "colab": {
          "base_uri": "https://localhost:8080/"
        },
        "id": "BDB_kMUCuUmn",
        "outputId": "0c576ff8-458e-4378-b611-96381ae04ad8"
      },
      "execution_count": 17,
      "outputs": [
        {
          "output_type": "stream",
          "name": "stdout",
          "text": [
            "6\n"
          ]
        }
      ]
    },
    {
      "cell_type": "code",
      "source": [
        "\n",
        "### Q2. Create a Python function that accepts a string and returns the reverse of that string ?\n",
        "\n",
        "A= \"sharanya\" [::-1]\n",
        "print(A)\n",
        "\n",
        "\n"
      ],
      "metadata": {
        "colab": {
          "base_uri": "https://localhost:8080/"
        },
        "id": "W63uk4dixG-4",
        "outputId": "f89d467f-e6e2-451f-eb42-5761e66ebac4"
      },
      "execution_count": 21,
      "outputs": [
        {
          "output_type": "stream",
          "name": "stdout",
          "text": [
            "aynarahs\n"
          ]
        }
      ]
    },
    {
      "cell_type": "code",
      "source": [
        "### Q3.  Implement a Python function that takes a list of integers and returns a new list containing the squares of each number.\n",
        "\n",
        "square_numbers = [x ** 2 for x in range(1, 6)]\n",
        "print(square_numbers)\n",
        "\n"
      ],
      "metadata": {
        "colab": {
          "base_uri": "https://localhost:8080/"
        },
        "id": "CoLaDIY9yB0A",
        "outputId": "c3d01027-7848-4fd9-c9f3-175d8e82c020"
      },
      "execution_count": 22,
      "outputs": [
        {
          "output_type": "stream",
          "name": "stdout",
          "text": [
            "[1, 4, 9, 16, 25]\n"
          ]
        }
      ]
    },
    {
      "cell_type": "code",
      "source": [
        "### Q4. Write a Python function that checks if a given number is prime or not from 1 to 200\n",
        "\n",
        "def is_prime(number):\n",
        "    if number <= 1:\n",
        "        return False\n",
        "    for i in range(2, int(number ** 0.5) + 1):\n",
        "        if number % i == 0:\n",
        "            return False\n",
        "    return True\n",
        "\n",
        "# Checking primes from 1 to 200\n",
        "for num in range(1, 29):\n",
        "    print(f\"{num}: {'Prime' if is_prime(num) else 'Not Prime'}\")\n"
      ],
      "metadata": {
        "colab": {
          "base_uri": "https://localhost:8080/"
        },
        "id": "8CbrPLlUybu8",
        "outputId": "9da3ba1a-59f8-4645-d1b7-4c07e6052494"
      },
      "execution_count": 25,
      "outputs": [
        {
          "output_type": "stream",
          "name": "stdout",
          "text": [
            "1: Not Prime\n",
            "2: Prime\n",
            "3: Prime\n",
            "4: Not Prime\n",
            "5: Prime\n",
            "6: Not Prime\n",
            "7: Prime\n",
            "8: Not Prime\n",
            "9: Not Prime\n",
            "10: Not Prime\n",
            "11: Prime\n",
            "12: Not Prime\n",
            "13: Prime\n",
            "14: Not Prime\n",
            "15: Not Prime\n",
            "16: Not Prime\n",
            "17: Prime\n",
            "18: Not Prime\n",
            "19: Prime\n",
            "20: Not Prime\n",
            "21: Not Prime\n",
            "22: Not Prime\n",
            "23: Prime\n",
            "24: Not Prime\n",
            "25: Not Prime\n",
            "26: Not Prime\n",
            "27: Not Prime\n",
            "28: Not Prime\n"
          ]
        }
      ]
    },
    {
      "cell_type": "code",
      "source": [
        "### Q5.  Create an iterator class in Python that generates the Fibonacci sequence up to a specified number of terms.\n",
        "\n",
        "class FibonacciIterator:\n",
        "    def __init__(self, max_terms):\n",
        "        self.max_terms = max_terms\n",
        "        self.current_term = 0\n",
        "        self.a = 0\n",
        "        self.b = 1\n",
        "\n",
        "    def __iter__(self):\n",
        "        return self\n",
        "\n",
        "    def __next__(self):\n",
        "        if self.current_term >= self.max_terms:\n",
        "            raise StopIteration\n",
        "        if self.current_term == 0:\n",
        "            self.current_term += 1\n",
        "            return self.a\n",
        "        elif self.current_term == 1:\n",
        "            self.current_term += 1\n",
        "            return self.b\n",
        "        else:\n",
        "            self.current_term += 1\n",
        "            next_value = self.a + self.b\n",
        "            self.a, self.b = self.b, next_value\n",
        "            return next_value\n",
        "\n",
        "# Example usage\n",
        "fib = FibonacciIterator(10)\n",
        "for num in fib:\n",
        "    print(num)\n"
      ],
      "metadata": {
        "colab": {
          "base_uri": "https://localhost:8080/"
        },
        "id": "ijrgJo45za9d",
        "outputId": "778f8626-7c4e-44e4-896e-f1080dfe2789"
      },
      "execution_count": 26,
      "outputs": [
        {
          "output_type": "stream",
          "name": "stdout",
          "text": [
            "0\n",
            "1\n",
            "1\n",
            "2\n",
            "3\n",
            "5\n",
            "8\n",
            "13\n",
            "21\n",
            "34\n"
          ]
        }
      ]
    },
    {
      "cell_type": "code",
      "source": [
        "### Q6.  Write a generator function in Python that yields the powers of 2 up to a given exponent.\n",
        "\n",
        "def powers_of_two(max_exponent):\n",
        "    for exponent in range(max_exponent + 1):\n",
        "        yield 2 ** exponent\n",
        "\n",
        "# Example usage\n",
        "for power in powers_of_two(5):\n",
        "    print(power)\n"
      ],
      "metadata": {
        "colab": {
          "base_uri": "https://localhost:8080/"
        },
        "id": "u-1CQslhzs_l",
        "outputId": "f42fa8d0-ad19-4abe-e4d1-96227dc5f230"
      },
      "execution_count": 27,
      "outputs": [
        {
          "output_type": "stream",
          "name": "stdout",
          "text": [
            "1\n",
            "2\n",
            "4\n",
            "8\n",
            "16\n",
            "32\n"
          ]
        }
      ]
    },
    {
      "cell_type": "code",
      "source": [
        "### Q7. Implement a generator function that reads a file line by line and yields each line as a string\n",
        "\n",
        "def read_file_line_by_line(file_path):\n",
        "    try:\n",
        "        with open(file_path, 'r') as file:\n",
        "            for line in file:\n",
        "                yield line.strip()\n",
        "    except FileNotFoundError:\n",
        "        print(\"The file was not found.\")\n",
        "    except IOError:\n",
        "        print(\"An error occurred while reading the file.\")\n",
        "\n",
        "# Example usage\n",
        "file_path = 'example.txt'\n",
        "for line in read_file_line_by_line(file_path):\n",
        "    print(line)\n"
      ],
      "metadata": {
        "colab": {
          "base_uri": "https://localhost:8080/"
        },
        "id": "xIFsn3GF1HGl",
        "outputId": "09e5eea3-db38-4d7e-b444-af9b4c9935c2"
      },
      "execution_count": 28,
      "outputs": [
        {
          "output_type": "stream",
          "name": "stdout",
          "text": [
            "The file was not found.\n"
          ]
        }
      ]
    },
    {
      "cell_type": "code",
      "source": [
        "### Q8. Use a lambda function in Python to sort a list of tuples based on the second element of each tuple.\n",
        "\n",
        "# Sample list of tuples\n",
        "tuples_list = [(1, 3), (4, 1), (5, 2), (2, 5), (3, 4)]\n",
        "\n",
        "# Sorting using a lambda function\n",
        "sorted_tuples_list = sorted(tuples_list, key=lambda x: x[1])\n",
        "\n",
        "print(sorted_tuples_list)\n"
      ],
      "metadata": {
        "colab": {
          "base_uri": "https://localhost:8080/"
        },
        "id": "MyTY8ylX1cw_",
        "outputId": "574c85e0-de1d-4c3c-863e-ded7a76bab41"
      },
      "execution_count": 29,
      "outputs": [
        {
          "output_type": "stream",
          "name": "stdout",
          "text": [
            "[(4, 1), (5, 2), (1, 3), (3, 4), (2, 5)]\n"
          ]
        }
      ]
    },
    {
      "cell_type": "code",
      "source": [
        "### Q9. Write a Python program that uses `map()` to convert a list of temperatures from Celsius to Fahrenheit.\n",
        "\n",
        "\n",
        "# Function to convert Celsius to Fahrenheit\n",
        "def celsius_to_fahrenheit(celsius):\n",
        "    return (celsius * 9/5) + 32\n",
        "\n",
        "# Sample list of temperatures in Celsius\n",
        "celsius_temperatures = [0, 20, 37, 100]\n",
        "\n",
        "# Using map() to convert the list to Fahrenheit\n",
        "fahrenheit_temperatures = list(map(celsius_to_fahrenheit, celsius_temperatures))\n",
        "\n",
        "print(fahrenheit_temperatures)\n"
      ],
      "metadata": {
        "colab": {
          "base_uri": "https://localhost:8080/"
        },
        "id": "t--LJqTv1qE9",
        "outputId": "5edb967f-62f2-412d-b351-20cffbaf1927"
      },
      "execution_count": 30,
      "outputs": [
        {
          "output_type": "stream",
          "name": "stdout",
          "text": [
            "[32.0, 68.0, 98.6, 212.0]\n"
          ]
        }
      ]
    },
    {
      "cell_type": "code",
      "source": [
        "### Q10. # Function to check if a character is a vowel\n",
        "\n",
        "def is_vowel(char):\n",
        "    vowels = 'aeiouAEIOU'\n",
        "    return char in vowels\n",
        "\n",
        "# Example usage\n",
        "print(is_vowel('a'))  # True\n",
        "print(is_vowel('b'))  # False\n",
        "print(is_vowel('E'))  # True\n",
        "print(is_vowel('z'))  # False\n"
      ],
      "metadata": {
        "colab": {
          "base_uri": "https://localhost:8080/"
        },
        "id": "obSKO-Uz13W1",
        "outputId": "f57c29b3-85c7-4ea7-d5da-6a5f9a0f69b4"
      },
      "execution_count": 33,
      "outputs": [
        {
          "output_type": "stream",
          "name": "stdout",
          "text": [
            "True\n",
            "False\n",
            "True\n",
            "False\n"
          ]
        }
      ]
    },
    {
      "cell_type": "code",
      "source": [
        "### Q11.  Imagine an accounting routine used in a book shop. It works on a list with sublists, which look like this:\n",
        "\n",
        "\n",
        "orders = [\n",
        "    [34587, 'Learning Python, Mark Lutz', 4, 40.95],\n",
        "    [98762, 'Programming Python, Mark Lutz', 5, 56.80],\n",
        "    [77226, 'Head First Python, Paul Barry', 3, 32.95],\n",
        "    [88112, 'Einführung in Python3, Bernd Klein', 3, 24.99]\n",
        "]\n",
        "\n",
        "result = list(map(lambda order: (order[0], order[3] * order[2] + 10 if order[3] * order[2] < 100 else order[3] * order[2]), orders))\n",
        "\n",
        "print(result)"
      ],
      "metadata": {
        "colab": {
          "base_uri": "https://localhost:8080/"
        },
        "id": "IttX_YSE2TfN",
        "outputId": "b876c028-e50b-42cf-f47d-b1e5d2a892bd"
      },
      "execution_count": 36,
      "outputs": [
        {
          "output_type": "stream",
          "name": "stdout",
          "text": [
            "[(34587, 163.8), (98762, 284.0), (77226, 108.85000000000001), (88112, 84.97)]\n"
          ]
        }
      ]
    }
  ]
}